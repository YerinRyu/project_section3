{
  "nbformat": 4,
  "nbformat_minor": 0,
  "metadata": {
    "colab": {
      "provenance": [],
      "gpuType": "T4"
    },
    "kernelspec": {
      "name": "python3",
      "display_name": "Python 3"
    },
    "language_info": {
      "name": "python"
    },
    "accelerator": "GPU",
    "gpuClass": "standard"
  },
  "cells": [
    {
      "cell_type": "markdown",
      "source": [
        "# Part3. 모델 불러오기 및 유사도 검색"
      ],
      "metadata": {
        "id": "qKxlStJqoK-T"
      }
    },
    {
      "cell_type": "code",
      "execution_count": 1,
      "metadata": {
        "colab": {
          "base_uri": "https://localhost:8080/"
        },
        "id": "bOBT2Fd-nIAm",
        "outputId": "a8977321-8e95-4fe7-c911-39b18cbe9ae0"
      },
      "outputs": [
        {
          "output_type": "stream",
          "name": "stdout",
          "text": [
            "Drive already mounted at /content/drive; to attempt to forcibly remount, call drive.mount(\"/content/drive\", force_remount=True).\n"
          ]
        }
      ],
      "source": [
        "from google.colab import drive\n",
        "drive.mount('/content/drive')"
      ]
    },
    {
      "cell_type": "markdown",
      "source": [
        "### 1. 모델 및 이미지 array 불러오기"
      ],
      "metadata": {
        "id": "iquWCwz6qQe6"
      }
    },
    {
      "cell_type": "code",
      "source": [
        "from keras.models import load_model\n",
        "\n",
        "autoencoder = load_model('/content/drive/MyDrive/project/autoencoder_final.h5')"
      ],
      "metadata": {
        "id": "AwLQupe1nY0p"
      },
      "execution_count": 2,
      "outputs": []
    },
    {
      "cell_type": "code",
      "source": [
        "import numpy as np\n",
        "\n",
        "image_dir = '/content/drive/MyDrive/project/image_array.npy'\n",
        "Ent_image = np.load(image_dir)\n",
        "\n",
        "Ent_image.shape"
      ],
      "metadata": {
        "colab": {
          "base_uri": "https://localhost:8080/"
        },
        "id": "5a32oylTlK1E",
        "outputId": "607f7cfc-5e8f-47b0-82ad-58dec3e65661"
      },
      "execution_count": 3,
      "outputs": [
        {
          "output_type": "execute_result",
          "data": {
            "text/plain": [
              "(3329, 32, 32, 3)"
            ]
          },
          "metadata": {},
          "execution_count": 3
        }
      ]
    },
    {
      "cell_type": "markdown",
      "source": [
        "### 2. 모델의 잠재 벡터"
      ],
      "metadata": {
        "id": "yAYe_APSqP9J"
      }
    },
    {
      "cell_type": "code",
      "source": [
        "from keras.models import Model\n",
        "\n",
        "encoder = Model(inputs=autoencoder.input, outputs=autoencoder.get_layer('dense_1').output)\n",
        "latent_vector = encoder.predict(Ent_image)"
      ],
      "metadata": {
        "id": "T3vAsyzRl_WI",
        "colab": {
          "base_uri": "https://localhost:8080/"
        },
        "outputId": "deb3c1c0-2840-4dc1-d4d7-9f7bff3b2380"
      },
      "execution_count": 37,
      "outputs": [
        {
          "output_type": "stream",
          "name": "stdout",
          "text": [
            "105/105 [==============================] - 2s 15ms/step\n"
          ]
        }
      ]
    },
    {
      "cell_type": "code",
      "source": [
        "latent_vector.shape"
      ],
      "metadata": {
        "colab": {
          "base_uri": "https://localhost:8080/"
        },
        "id": "uxW5xA6jXxCw",
        "outputId": "87ab2148-b4e4-4804-f67e-4a7b0a44bfb9"
      },
      "execution_count": 39,
      "outputs": [
        {
          "output_type": "execute_result",
          "data": {
            "text/plain": [
              "(3329, 2, 2, 32)"
            ]
          },
          "metadata": {},
          "execution_count": 39
        }
      ]
    },
    {
      "cell_type": "markdown",
      "source": [
        "### 3. 영상 다운로드\n",
        "\n",
        "RAM사용량 제한이 있는 관계로, 영상에서 캡쳐한 8개의 이미지들로 유사도 계산을 진행할 것입니다."
      ],
      "metadata": {
        "id": "OcueFU_LxdrF"
      }
    },
    {
      "cell_type": "code",
      "source": [
        "import os\n",
        "from tensorflow.keras.preprocessing.image import load_img, img_to_array\n",
        "from PIL import Image\n",
        "\n",
        "def preprocess_images(folder_path, grayscale=True):\n",
        "\n",
        "    # 폴더 내 파일 이름들 가져오기\n",
        "    file_names = os.listdir(folder_path)\n",
        "\n",
        "    # 이미지 처리 결과를 저장할 리스트\n",
        "    processed_images = []\n",
        "\n",
        "    # 파일들에 대해 반복적으로 처리\n",
        "    for file_name in file_names:\n",
        "\n",
        "        if file_name == \".ipynb_checkpoints\":\n",
        "              continue\n",
        "\n",
        "        # 이미지 파일 경로\n",
        "        image_path = os.path.join(folder_path, file_name)\n",
        "\n",
        "        # 이미지 열기\n",
        "        with Image.open(image_path) as image:\n",
        "            # 이미지 크기 조정\n",
        "            resized_image = image.resize((32, 32))\n",
        "\n",
        "            # 컬러 이미지를 흑백으로 변환\n",
        "            if grayscale:\n",
        "                resized_image = resized_image.convert(\"L\")\n",
        "\n",
        "            # 이미지 전처리\n",
        "            normalized_image = np.array(resized_image) / 255.0\n",
        "\n",
        "            # 차원 조정\n",
        "            input_image = np.expand_dims(normalized_image, axis=0)\n",
        "\n",
        "            # 처리된 이미지를 결과 리스트에 추가\n",
        "            processed_images.append(input_image)\n",
        "\n",
        "    # 결과 리스트를 NumPy 배열로 변환\n",
        "    processed_images = np.array(processed_images)\n",
        "\n",
        "    return processed_images"
      ],
      "metadata": {
        "id": "OLeWXjUwQPbT"
      },
      "execution_count": 9,
      "outputs": []
    },
    {
      "cell_type": "code",
      "source": [
        "frames_dir = '/content/drive/MyDrive/frames'\n",
        "frame_images = preprocess_images(frames_dir, grayscale=False)"
      ],
      "metadata": {
        "id": "ki4lgqlWUODR"
      },
      "execution_count": 24,
      "outputs": []
    },
    {
      "cell_type": "code",
      "source": [
        "frame_images.shape"
      ],
      "metadata": {
        "colab": {
          "base_uri": "https://localhost:8080/"
        },
        "id": "ZviuuDhcV3sI",
        "outputId": "ee16240e-b657-4937-f1a4-13449fc93c40"
      },
      "execution_count": 25,
      "outputs": [
        {
          "output_type": "execute_result",
          "data": {
            "text/plain": [
              "(8, 1, 32, 32, 4)"
            ]
          },
          "metadata": {},
          "execution_count": 25
        }
      ]
    },
    {
      "cell_type": "code",
      "source": [
        "frame_images = frame_images.reshape((8, 32, 32, 4, 1))"
      ],
      "metadata": {
        "id": "VM7auWgXUby5"
      },
      "execution_count": 29,
      "outputs": []
    },
    {
      "cell_type": "code",
      "source": [
        "frame_images = frame_images[:, :, :, :3, 0]"
      ],
      "metadata": {
        "id": "3wwJs_ASWcDH"
      },
      "execution_count": 31,
      "outputs": []
    },
    {
      "cell_type": "code",
      "source": [
        "frame_images.shape"
      ],
      "metadata": {
        "colab": {
          "base_uri": "https://localhost:8080/"
        },
        "id": "rPRqHFinWdLO",
        "outputId": "dcf54cd4-ea2c-4899-d694-ed69cf020c48"
      },
      "execution_count": 33,
      "outputs": [
        {
          "output_type": "execute_result",
          "data": {
            "text/plain": [
              "(8, 32, 32, 3)"
            ]
          },
          "metadata": {},
          "execution_count": 33
        }
      ]
    },
    {
      "cell_type": "code",
      "source": [
        "frame_latent_vector = encoder.predict(frame_images)"
      ],
      "metadata": {
        "colab": {
          "base_uri": "https://localhost:8080/"
        },
        "id": "KhKGV3Hxbqwx",
        "outputId": "94e12dfb-8cdc-4b3b-c9d1-83522651f942"
      },
      "execution_count": 50,
      "outputs": [
        {
          "output_type": "stream",
          "name": "stdout",
          "text": [
            "1/1 [==============================] - 0s 52ms/step\n"
          ]
        }
      ]
    },
    {
      "cell_type": "markdown",
      "source": [
        "### 거리 계산"
      ],
      "metadata": {
        "id": "KxBW0VxJZTPF"
      }
    },
    {
      "cell_type": "code",
      "source": [
        "encoder_flat = latent_vector.reshape((latent_vector.shape[0], -1))\n",
        "frames_flat = frame_latent_vector.reshape((frame_latent_vector.shape[0], -1))\n",
        "\n",
        "# Calculate the Euclidean distance between each pair of images\n",
        "distances = np.linalg.norm(encoder_flat[:, np.newaxis] - frames_flat, axis=2)\n",
        "\n",
        "# Print the shape of the distances array\n",
        "print(distances.shape)"
      ],
      "metadata": {
        "colab": {
          "base_uri": "https://localhost:8080/"
        },
        "id": "sriO2sUjZkNd",
        "outputId": "a3c59d08-e8d5-4e9c-ae73-ecf12ad2806f"
      },
      "execution_count": 51,
      "outputs": [
        {
          "output_type": "stream",
          "name": "stdout",
          "text": [
            "(3329, 8)\n"
          ]
        }
      ]
    },
    {
      "cell_type": "code",
      "source": [
        "min_distance_indices = np.where(distances == np.min(distances))"
      ],
      "metadata": {
        "id": "RiNwXl7Vcaxh"
      },
      "execution_count": 55,
      "outputs": []
    },
    {
      "cell_type": "code",
      "source": [
        "min_distance_indices"
      ],
      "metadata": {
        "colab": {
          "base_uri": "https://localhost:8080/"
        },
        "id": "retPbTuZchq5",
        "outputId": "55b8eeee-ed24-4ac4-80a2-17ccdea3b15a"
      },
      "execution_count": 56,
      "outputs": [
        {
          "output_type": "execute_result",
          "data": {
            "text/plain": [
              "(array([432]), array([3]))"
            ]
          },
          "metadata": {},
          "execution_count": 56
        }
      ]
    },
    {
      "cell_type": "markdown",
      "source": [
        "학습된 모델의 432인덱스와, 프레임의 3인덱스가 가장 유사한 이미지라고 하여 시각화 해봅니다."
      ],
      "metadata": {
        "id": "n8AC694Ag7Ws"
      }
    },
    {
      "cell_type": "code",
      "source": [
        "import matplotlib.pyplot as plt\n",
        "plt.imshow(Ent_image[432])"
      ],
      "metadata": {
        "colab": {
          "base_uri": "https://localhost:8080/",
          "height": 448
        },
        "id": "fGc5WxK5cqK4",
        "outputId": "dd051891-a5bb-4646-bc52-f1b03cdec0d8"
      },
      "execution_count": 60,
      "outputs": [
        {
          "output_type": "execute_result",
          "data": {
            "text/plain": [
              "<matplotlib.image.AxesImage at 0x7fcd13d40c40>"
            ]
          },
          "metadata": {},
          "execution_count": 60
        },
        {
          "output_type": "display_data",
          "data": {
            "text/plain": [
              "<Figure size 640x480 with 1 Axes>"
            ],
            "image/png": "[encoded data removed]"
          },
          "metadata": {}
        }
      ]
    },
    {
      "cell_type": "code",
      "source": [
        "plt.imshow(frame_images[3])"
      ],
      "metadata": {
        "colab": {
          "base_uri": "https://localhost:8080/",
          "height": 448
        },
        "id": "Mu0ooF-4dccD",
        "outputId": "327ea72a-d960-4050-82c0-80a589a6baaf"
      },
      "execution_count": 59,
      "outputs": [
        {
          "output_type": "execute_result",
          "data": {
            "text/plain": [
              "<matplotlib.image.AxesImage at 0x7fcd13eb2d70>"
            ]
          },
          "metadata": {},
          "execution_count": 59
        },
        {
          "output_type": "display_data",
          "data": {
            "text/plain": [
              "<Figure size 640x480 with 1 Axes>"
            ],
            "image/png": "[encoded data removed]"
          },
          "metadata": {}
        }
      ]
    },
    {
      "cell_type": "markdown",
      "source": [
        "## 한계점 및 추후 발전 방향\n",
        "\n",
        "### 보완할 점\n",
        "1. 학습을 계속 진행하여 Loss을 감소시킨다. (20000 Epoch당 0.01정도 줄었음)​\n",
        "2. 테스트 데이터를 확보한다. (RAM, 저작권 문제 등 해결)​\n",
        "3. resizing을 영상 비율에 맞게 다시 한다.\n",
        "\n",
        "### 프로젝트 발전 방향\n",
        "1. 더욱 세분화 된 카테고리 학습 및​ 사용자 데이터 수집\n",
        "2. 영상 내용 관련한​ 관련 이미지 학습(레이블링 요)\n",
        "3. 자연어 처리를 이용한​ 알맞은 타이틀 학습 & 타이틀 데이터​ 확보\n",
        "4. 실제 서비스 시 효율성을 위해​ 상황에 맞는 기술 적절히 사용​"
      ],
      "metadata": {
        "id": "RRdF2etXhDm_"
      }
    },
    {
      "cell_type": "code",
      "source": [],
      "metadata": {
        "id": "v90C_QJDhcOQ"
      },
      "execution_count": null,
      "outputs": []
    }
  ]
}